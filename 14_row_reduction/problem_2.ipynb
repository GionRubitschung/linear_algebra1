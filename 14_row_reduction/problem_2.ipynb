{
 "cells": [
  {
   "cell_type": "markdown",
   "metadata": {},
   "source": [
    "# Problem 2\n",
    "\n",
    "![P2](./p2.png)\n"
   ]
  },
  {
   "cell_type": "code",
   "execution_count": 1,
   "metadata": {},
   "outputs": [],
   "source": [
    "import sys\n",
    "sys.path.insert(0, \"..\")\n",
    "\n",
    "import numpy as np\n",
    "from lib.matrix_operations import add_row, swap_row, multiply_row"
   ]
  },
  {
   "cell_type": "code",
   "execution_count": 2,
   "metadata": {},
   "outputs": [
    {
     "name": "stdout",
     "output_type": "stream",
     "text": [
      "Starting matrix:\n",
      "[[1 1 1 1 0]\n",
      " [1 1 0 1 1]\n",
      " [1 0 1 1 1]]\n",
      "Clean C1:\n",
      "[[ 1  1  1  1  0]\n",
      " [ 0  0 -1  0  1]\n",
      " [ 0 -1  0  0  1]]\n",
      "Clean C2:\n",
      "[[ 1  0  1  1  1]\n",
      " [ 0  1  0  0 -1]\n",
      " [ 0  0  1  0 -1]]\n",
      "rref (clean C3):\n",
      "[[ 1  0  0  1  2]\n",
      " [ 0  1  0  0 -1]\n",
      " [ 0  0  1  0 -1]]\n"
     ]
    }
   ],
   "source": [
    "M = np.array([[1, 1, 1, 1, 0], [1, 1, 0, 1, 1], [1, 0, 1, 1, 1]])\n",
    "\n",
    "print(\"Starting matrix:\")\n",
    "print(M)\n",
    "\n",
    "# Get clean C1\n",
    "M = add_row(M, 1, 0, -1)\n",
    "M = add_row(M, 2, 0, -1)\n",
    "\n",
    "print(\"Clean C1:\")\n",
    "print(M)\n",
    "\n",
    "M = swap_row(M, 1, 2)\n",
    "M = multiply_row(M, 1, -1)\n",
    "M = multiply_row(M, 2, -1)\n",
    "M = add_row(M, 0, 1, -1)\n",
    "\n",
    "print(\"Clean C2:\")\n",
    "print(M)\n",
    "\n",
    "M = add_row(M, 0, 2, -1)\n",
    "\n",
    "print(\"rref (clean C3):\")\n",
    "print(M)"
   ]
  }
 ],
 "metadata": {
  "kernelspec": {
   "display_name": ".venv",
   "language": "python",
   "name": "python3"
  },
  "language_info": {
   "codemirror_mode": {
    "name": "ipython",
    "version": 3
   },
   "file_extension": ".py",
   "mimetype": "text/x-python",
   "name": "python",
   "nbconvert_exporter": "python",
   "pygments_lexer": "ipython3",
   "version": "3.11.4"
  }
 },
 "nbformat": 4,
 "nbformat_minor": 2
}
