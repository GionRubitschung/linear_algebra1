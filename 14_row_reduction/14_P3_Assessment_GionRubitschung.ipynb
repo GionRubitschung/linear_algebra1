{
 "cells": [
  {
   "cell_type": "markdown",
   "metadata": {},
   "source": [
    "Compute the rref of\n",
    "\n",
    "$$\n",
    "M=\\begin{pmatrix}\n",
    "0 & 0 & 1 & 2 & 1 & 1 & 0\\\\\\\n",
    "-2 & -4 & 2 & 4 & 4 & 0 & 0\\\\\\\n",
    "1 & 2 & 1 & 2 & 0 & 1 & 1\\\\\\\n",
    "2 & 4 & 1 & 2 & -1 & -2 & 5\\\\\\\n",
    "2 & 4 & -1 & -2 & -3 & -2 & 3\n",
    "\\end{pmatrix}\n",
    "$$\n",
    "\n",
    "and show every step of the computation\n"
   ]
  },
  {
   "cell_type": "code",
   "execution_count": 1,
   "metadata": {},
   "outputs": [],
   "source": [
    "# Needed for lib import, since it is a local module\n",
    "import sys\n",
    "\n",
    "sys.path.insert(0, \"..\")\n",
    "\n",
    "from lib.matrix_operations import add_row, swap_row, multiply_row\n",
    "import numpy as np"
   ]
  },
  {
   "cell_type": "code",
   "execution_count": 2,
   "metadata": {},
   "outputs": [
    {
     "name": "stdout",
     "output_type": "stream",
     "text": [
      "[[ 0  0  1  2  1  1  0]\n",
      " [-2 -4  2  4  4  0  0]\n",
      " [ 1  2  1  2  0  1  1]\n",
      " [ 2  4  1  2 -1 -2  5]\n",
      " [ 2  4 -1 -2 -3 -2  3]]\n"
     ]
    }
   ],
   "source": [
    "M = np.array(\n",
    "    [\n",
    "        [0, 0, 1, 2, 1, 1, 0],\n",
    "        [-2, -4, 2, 4, 4, 0, 0],\n",
    "        [1, 2, 1, 2, 0, 1, 1],\n",
    "        [2, 4, 1, 2, -1, -2, 5],\n",
    "        [2, 4, -1, -2, -3, -2, 3],\n",
    "    ]\n",
    ")\n",
    "print(M)"
   ]
  },
  {
   "cell_type": "markdown",
   "metadata": {},
   "source": [
    "# Clean C1\n",
    "\n",
    "1. Swap $R_1 \\leftrightarrow R_2$\n"
   ]
  },
  {
   "cell_type": "code",
   "execution_count": 3,
   "metadata": {},
   "outputs": [
    {
     "name": "stdout",
     "output_type": "stream",
     "text": [
      "[[ 1  2  1  2  0  1  1]\n",
      " [-2 -4  2  4  4  0  0]\n",
      " [ 0  0  1  2  1  1  0]\n",
      " [ 2  4  1  2 -1 -2  5]\n",
      " [ 2  4 -1 -2 -3 -2  3]]\n"
     ]
    }
   ],
   "source": [
    "M = swap_row(M, 2, 0)\n",
    "print(M)"
   ]
  },
  {
   "cell_type": "markdown",
   "metadata": {},
   "source": [
    "$M[0, 0] = 1 \\rightarrow pivot$\n",
    "\n",
    "2. $R_1 = R_1 + 2R_0$\n",
    "3. $R_3 = R_3 - 2R_0$\n",
    "4. $R_4 = R_4 - 2R_0$\n"
   ]
  },
  {
   "cell_type": "code",
   "execution_count": 4,
   "metadata": {},
   "outputs": [
    {
     "name": "stdout",
     "output_type": "stream",
     "text": [
      "[[ 1  2  1  2  0  1  1]\n",
      " [ 0  0  4  8  4  2  2]\n",
      " [ 0  0  1  2  1  1  0]\n",
      " [ 0  0 -1 -2 -1 -4  3]\n",
      " [ 0  0 -3 -6 -3 -4  1]]\n"
     ]
    }
   ],
   "source": [
    "M = add_row(M, row_one=1, row_two=0, factor=2)\n",
    "M = add_row(M, row_one=3, row_two=0, factor=-2)\n",
    "M = add_row(M, row_one=4, row_two=0, factor=-2)\n",
    "print(M)"
   ]
  },
  {
   "cell_type": "markdown",
   "metadata": {},
   "source": [
    "# Clean C2\n",
    "\n",
    "1. Swap $R_2 \\leftrightarrow R_1$\n"
   ]
  },
  {
   "cell_type": "code",
   "execution_count": 5,
   "metadata": {},
   "outputs": [
    {
     "name": "stdout",
     "output_type": "stream",
     "text": [
      "[[ 1  2  1  2  0  1  1]\n",
      " [ 0  0  1  2  1  1  0]\n",
      " [ 0  0  4  8  4  2  2]\n",
      " [ 0  0 -1 -2 -1 -4  3]\n",
      " [ 0  0 -3 -6 -3 -4  1]]\n"
     ]
    }
   ],
   "source": [
    "M = swap_row(M, row_one=2, row_two=1)\n",
    "print(M)"
   ]
  },
  {
   "cell_type": "markdown",
   "metadata": {},
   "source": [
    "$M[1, 2] = 1 \\rightarrow pivot$\n",
    "\n",
    "2. $R_0 = R_0 - R_1$\n",
    "3. $R_2 = R_2 - 4R_1$\n",
    "4. $R_3 = R_3 + R_1$\n",
    "5. $R_4 = R_4 + 3R_1$\n"
   ]
  },
  {
   "cell_type": "code",
   "execution_count": 6,
   "metadata": {},
   "outputs": [
    {
     "name": "stdout",
     "output_type": "stream",
     "text": [
      "[[ 1  2  0  0 -1  0  1]\n",
      " [ 0  0  1  2  1  1  0]\n",
      " [ 0  0  0  0  0 -2  2]\n",
      " [ 0  0  0  0  0 -3  3]\n",
      " [ 0  0  0  0  0 -1  1]]\n"
     ]
    }
   ],
   "source": [
    "M = add_row(M, row_one=0, row_two=1, factor=-1)\n",
    "M = add_row(M, row_one=2, row_two=1, factor=-4)\n",
    "M = add_row(M, row_one=3, row_two=1, factor=1)\n",
    "M = add_row(M, row_one=4, row_two=1, factor=3)\n",
    "print(M)"
   ]
  },
  {
   "cell_type": "markdown",
   "metadata": {},
   "source": [
    "# Clean C3\n",
    "\n",
    "1. Swap $R_2 \\leftrightarrow R_4$\n",
    "2. $R_2 \\leftarrow -R_2$\n"
   ]
  },
  {
   "cell_type": "code",
   "execution_count": 7,
   "metadata": {},
   "outputs": [
    {
     "name": "stdout",
     "output_type": "stream",
     "text": [
      "[[ 1  2  0  0 -1  0  1]\n",
      " [ 0  0  1  2  1  1  0]\n",
      " [ 0  0  0  0  0  1 -1]\n",
      " [ 0  0  0  0  0 -3  3]\n",
      " [ 0  0  0  0  0 -2  2]]\n"
     ]
    }
   ],
   "source": [
    "M = swap_row(M, row_one=2, row_two=4)\n",
    "M = multiply_row(M, row=2, factor=-1)\n",
    "print(M)"
   ]
  },
  {
   "cell_type": "markdown",
   "metadata": {},
   "source": [
    "$M[2, 5] = 1 \\rightarrow pivot$\n",
    "\n",
    "3. $R_1 = R_1 - R_2$\n",
    "4. $R_3 = R_3 + 3R_2$\n",
    "5. $R_4 = R_4 + 2R_2$\n"
   ]
  },
  {
   "cell_type": "code",
   "execution_count": 8,
   "metadata": {},
   "outputs": [
    {
     "name": "stdout",
     "output_type": "stream",
     "text": [
      "[[ 1  2  0  0 -1  0  1]\n",
      " [ 0  0  1  2  1  0  1]\n",
      " [ 0  0  0  0  0  1 -1]\n",
      " [ 0  0  0  0  0  0  0]\n",
      " [ 0  0  0  0  0  0  0]]\n"
     ]
    }
   ],
   "source": [
    "M = add_row(M, row_one=1, row_two=2, factor=-1)\n",
    "M = add_row(M, row_one=3, row_two=2, factor=3)\n",
    "M = add_row(M, row_one=4, row_two=2, factor=2)\n",
    "print(M)"
   ]
  },
  {
   "cell_type": "markdown",
   "metadata": {},
   "source": [
    "# Solution\n",
    "\n",
    "$$\n",
    "\\underline{\\underline{\n",
    "    rref(M)=\\begin{pmatrix}\n",
    "    1 & 2 & 0 & 0 & -1 & 0 & 1\\\\\\\n",
    "    0 & 0 & 1 & 2 & 1 & 0 & 1\\\\\\\n",
    "    0 & 0 & 0 & 0 & 0 & 1 & -1\\\\\\\n",
    "    0 & 0 & 0 & 0 & 0 & 0 & 0\\\\\\\n",
    "    0 & 0 & 0 & 0 & 0 & 0 & 0\n",
    "    \\end{pmatrix}\n",
    "}}\n",
    "$$\n"
   ]
  },
  {
   "cell_type": "markdown",
   "metadata": {},
   "source": [
    "# Appendix\n",
    "## lib module\n",
    "### matrix_operations\n",
    "\n",
    "```python\n",
    "def add_row(\n",
    "    X: np.ndarray, row_one: int, row_two: int, factor: int, matrix_type: str = \"int\"\n",
    ") -> np.ndarray:\n",
    "    \"\"\"Operates an addition of two rows inside a given matrix `X`\n",
    "\n",
    "    Args:\n",
    "        X (np.ndarray): The given matrix\n",
    "        row_one (int): Index of row one in `X`\n",
    "        row_two (int): Index of row two in `X`\n",
    "        factor (int): Factor applied to `X[row_two]` how much to the row `X[row_one]` adds,\n",
    "            use negative values for substraction\n",
    "        matrix_type (str, optional): Type of the matrix entries,\n",
    "            for example `float64` or `int`. Defaults to `int`.\n",
    "\n",
    "    Raises:\n",
    "        InvalidSpanOperationException: If `row_one` equals `row_two`,\n",
    "            the operation cannot be done\n",
    "\n",
    "    Returns:\n",
    "        np.ndarray: The edited matrix\n",
    "    \"\"\"\n",
    "    if row_one == row_two:\n",
    "        raise InvalidSpanOperationException()\n",
    "\n",
    "    X = X.astype(\"float64\")\n",
    "    X[row_one] += factor * X[row_two]\n",
    "    return X.astype(matrix_type)\n",
    "\n",
    "\n",
    "def multiply_row(\n",
    "    X: np.ndarray, row: int, factor: int, matrix_type: str = \"int\"\n",
    ") -> np.ndarray:\n",
    "    \"\"\"Operates a multiplication of a row inside a given matrix `X`\n",
    "\n",
    "    Args:\n",
    "        X (np.ndarray): The given matrix\n",
    "        row (int): Index of the row to multiply in `X`\n",
    "        factor (int): Factor of how much to multiply\n",
    "        matrix_type (str, optional): Type of the matrix entries,\n",
    "            for example `float64` or `int`. Defaults to `int`.\n",
    "\n",
    "    Raises:\n",
    "        InvalidSpanOperationException: If `factor` equals `0`,\n",
    "            the multiplication is invalid\n",
    "\n",
    "    Returns:\n",
    "        np.ndarray: The edited matrix\n",
    "    \"\"\"\n",
    "    if factor == 0:\n",
    "        raise InvalidSpanOperationException()\n",
    "    X = X.astype(\"float64\")\n",
    "    X[row] = factor * X[row]\n",
    "    return X.astype(matrix_type)\n",
    "\n",
    "\n",
    "def swap_row(\n",
    "    X: np.ndarray, row_one: int, row_two: int, matrix_type: str = \"int\"\n",
    ") -> np.ndarray:\n",
    "    \"\"\"Operates a swap of row inside a given matrix `X`\n",
    "\n",
    "    Args:\n",
    "        X (np.ndarray): The given matrix\n",
    "        row_one (int): Index of row 1\n",
    "        row_two (int): Index of row 2\n",
    "        matrix_type (str, optional): Type of the matrix entries,\n",
    "            for example `float64` or `int`. Defaults to `int`.\n",
    "\n",
    "    Returns:\n",
    "        np.ndarray: The edited matrix\n",
    "    \"\"\"\n",
    "    X = X.astype(\"float64\")\n",
    "    X[[row_one, row_two]] = X[[row_two, row_one]]\n",
    "    return X.astype(matrix_type)\n",
    "```\n",
    "\n",
    "### errors\n",
    "\n",
    "```python\n",
    "class InvalidSpanOperationException(Exception):\n",
    "    \"\"\"Exception raised when when a matrix operation would change the span\"\"\"\n",
    "\n",
    "    def __init__(self) -> Exception:\n",
    "        super().__init__(\"Not allowed, this could change the span!\")\n",
    "```"
   ]
  }
 ],
 "metadata": {
  "kernelspec": {
   "display_name": ".venv",
   "language": "python",
   "name": "python3"
  },
  "language_info": {
   "codemirror_mode": {
    "name": "ipython",
    "version": 3
   },
   "file_extension": ".py",
   "mimetype": "text/x-python",
   "name": "python",
   "nbconvert_exporter": "python",
   "pygments_lexer": "ipython3",
   "version": "3.11.4"
  }
 },
 "nbformat": 4,
 "nbformat_minor": 2
}
