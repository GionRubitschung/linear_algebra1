{
 "cells": [
  {
   "cell_type": "code",
   "execution_count": 1,
   "metadata": {},
   "outputs": [],
   "source": [
    "import numpy as np\n",
    "from numpy.linalg import matrix_power"
   ]
  },
  {
   "cell_type": "markdown",
   "metadata": {},
   "source": [
    "![directed graph](./img/P3_graph.png)\n",
    "\n",
    "# a. Define the adjacency matrix $A$ of this directed graph\n",
    "\n",
    "$$\n",
    "A = \\begin{pmatrix}\n",
    "0 & 0 & 0 & 0 & 0 & 0 & 0 & 1 \\\\\n",
    "1 & 0 & 0 & 0 & 0 & 0 & 0 & 1 \\\\\n",
    "0 & 1 & 0 & 0 & 0 & 0 & 0 & 0 \\\\\n",
    "0 & 1 & 1 & 0 & 0 & 0 & 0 & 0 \\\\\n",
    "0 & 0 & 0 & 1 & 0 & 0 & 0 & 0 \\\\\n",
    "0 & 0 & 0 & 1 & 1 & 0 & 0 & 0 \\\\\n",
    "0 & 0 & 0 & 0 & 0 & 1 & 0 & 0 \\\\\n",
    "0 & 0 & 0 & 1 & 0 & 1 & 1 & 0\n",
    "\\end{pmatrix}\n",
    "$$"
   ]
  },
  {
   "cell_type": "code",
   "execution_count": 2,
   "metadata": {},
   "outputs": [
    {
     "data": {
      "text/plain": [
       "array([[0, 0, 0, 0, 0, 0, 0, 1],\n",
       "       [1, 0, 0, 0, 0, 0, 0, 1],\n",
       "       [0, 1, 0, 0, 0, 0, 0, 0],\n",
       "       [0, 1, 1, 0, 0, 0, 0, 0],\n",
       "       [0, 0, 0, 1, 0, 0, 0, 0],\n",
       "       [0, 0, 0, 1, 1, 0, 0, 0],\n",
       "       [0, 0, 0, 0, 0, 1, 0, 0],\n",
       "       [0, 0, 0, 1, 0, 1, 1, 0]])"
      ]
     },
     "execution_count": 2,
     "metadata": {},
     "output_type": "execute_result"
    }
   ],
   "source": [
    "A = np.array(\n",
    "    [\n",
    "        [0, 0, 0, 0, 0, 0, 0, 1],\n",
    "        [1, 0, 0, 0, 0, 0, 0, 1],\n",
    "        [0, 1, 0, 0, 0, 0, 0, 0],\n",
    "        [0, 1, 1, 0, 0, 0, 0, 0],\n",
    "        [0, 0, 0, 1, 0, 0, 0, 0],\n",
    "        [0, 0, 0, 1, 1, 0, 0, 0],\n",
    "        [0, 0, 0, 0, 0, 1, 0, 0],\n",
    "        [0, 0, 0, 1, 0, 1, 1, 0],\n",
    "    ]\n",
    ")\n",
    "A"
   ]
  },
  {
   "cell_type": "markdown",
   "metadata": {},
   "source": [
    "# b. Compute $A^3$"
   ]
  },
  {
   "cell_type": "code",
   "execution_count": 3,
   "metadata": {},
   "outputs": [
    {
     "data": {
      "text/plain": [
       "array([[0, 1, 1, 1, 1, 1, 0, 0],\n",
       "       [0, 1, 1, 2, 1, 2, 1, 0],\n",
       "       [0, 0, 0, 1, 0, 1, 1, 1],\n",
       "       [1, 0, 0, 1, 0, 1, 1, 2],\n",
       "       [1, 1, 0, 0, 0, 0, 0, 1],\n",
       "       [1, 2, 1, 0, 0, 0, 0, 1],\n",
       "       [0, 1, 1, 1, 0, 0, 0, 0],\n",
       "       [1, 2, 1, 2, 1, 0, 0, 1]])"
      ]
     },
     "execution_count": 3,
     "metadata": {},
     "output_type": "execute_result"
    }
   ],
   "source": [
    "A_pow3 = matrix_power(A, 3)\n",
    "A_pow3"
   ]
  },
  {
   "cell_type": "markdown",
   "metadata": {},
   "source": [
    "# c. Compute $tr(A^4)$, the number of all closed walks of length 4"
   ]
  },
  {
   "cell_type": "code",
   "execution_count": 4,
   "metadata": {},
   "outputs": [
    {
     "name": "stdout",
     "output_type": "stream",
     "text": [
      "A^4:\n",
      "[[1 2 1 2 1 0 0 1]\n",
      " [1 3 2 3 2 1 0 1]\n",
      " [0 1 1 2 1 2 1 0]\n",
      " [0 1 1 3 1 3 2 1]\n",
      " [1 0 0 1 0 1 1 2]\n",
      " [2 1 0 1 0 1 1 3]\n",
      " [1 2 1 0 0 0 0 1]\n",
      " [2 3 2 2 0 1 1 3]]\n",
      "Trace of A^4: 12\n"
     ]
    }
   ],
   "source": [
    "A_pow4 = matrix_power(A, 4)\n",
    "trace_A_pow4 = np.trace(A_pow4)\n",
    "print(f\"A^4:\\n{A_pow4}\\nTrace of A^4: {trace_A_pow4}\")"
   ]
  },
  {
   "cell_type": "markdown",
   "metadata": {},
   "source": [
    "$$\n",
    "A^4 = \\begin{pmatrix}\n",
    "1 & 2 & 1 & 2 & 1 & 0 & 0 & 1 \\\\\n",
    "1 & 3 & 2 & 3 & 2 & 1 & 0 & 1 \\\\\n",
    "0 & 1 & 1 & 2 & 1 & 2 & 1 & 0 \\\\\n",
    "0 & 1 & 1 & 3 & 1 & 3 & 2 & 1 \\\\\n",
    "1 & 0 & 0 & 1 & 0 & 1 & 1 & 2 \\\\\n",
    "2 & 1 & 0 & 1 & 0 & 1 & 1 & 3 \\\\\n",
    "1 & 2 & 1 & 0 & 0 & 0 & 0 & 1 \\\\\n",
    "2 & 3 & 2 & 2 & 0 & 1 & 1 & 3\n",
    "\\end{pmatrix}\n",
    "$$\n",
    "\n",
    "$$\n",
    "tr(A^4) = 1 + 3 + 1 + 3 + 0 + 1 + 0 + 3 = 12\n",
    "$$"
   ]
  },
  {
   "cell_type": "markdown",
   "metadata": {},
   "source": [
    "# d. Compute the number of walks of length 10 from vertex 1 to vertex 1"
   ]
  },
  {
   "cell_type": "code",
   "execution_count": 5,
   "metadata": {},
   "outputs": [
    {
     "name": "stdout",
     "output_type": "stream",
     "text": [
      "A^10:\n",
      "[[29 49 30 49 17 30 20 43]\n",
      " [43 78 49 79 29 47 30 63]\n",
      " [20 43 29 49 20 29 17 30]\n",
      " [30 63 43 78 32 49 29 47]\n",
      " [17 30 20 43 17 32 20 29]\n",
      " [29 47 30 63 23 49 32 49]\n",
      " [20 29 17 30  8 23 17 32]\n",
      " [49 79 49 90 30 63 43 78]]\n",
      "Number of walks from vertex 1 to vertex 1: 29\n"
     ]
    }
   ],
   "source": [
    "A_pow10 = matrix_power(A, 10)\n",
    "print(f\"A^10:\\n{A_pow10}\\nNumber of walks from vertex 1 to vertex 1: {A_pow10[0,0]}\")"
   ]
  },
  {
   "cell_type": "markdown",
   "metadata": {},
   "source": [
    "$A^{10}_{11} = 29$"
   ]
  },
  {
   "cell_type": "markdown",
   "metadata": {},
   "source": [
    "# e. Compute the number of walks of length 10 from vertex 1 to vertex 1 that never use the 4 $\\rightarrow$ 8 edge\n",
    "\n",
    "In order to achieve this, I am altering the entry of $A_{84}$ from $1$ to $0$. This eliminates the 4 $\\rightarrow$ 8 edge. If we then compute $A^{10}$ we get all walks from vertex 1 to vertex 1 without the 4 $\\rightarrow$ 8 edge."
   ]
  },
  {
   "cell_type": "code",
   "execution_count": 6,
   "metadata": {},
   "outputs": [
    {
     "name": "stdout",
     "output_type": "stream",
     "text": [
      "A_modified^10:\n",
      "[[ 7 21 15 20 10  6  2  8]\n",
      " [ 8 28 21 35 20 16  6 10]\n",
      " [ 2  8  7 21 15 20 10  6]\n",
      " [ 6 10  8 28 21 35 20 16]\n",
      " [10  6  2  8  7 21 15 20]\n",
      " [20 16  6 10  8 28 21 35]\n",
      " [15 20 10  6  2  8  7 21]\n",
      " [21 35 20 16  6 10  8 28]]\n",
      "Number of walks from vertex 1 to vertex 1 without using the 4 to 8 edge: 7\n"
     ]
    }
   ],
   "source": [
    "A_modified = A\n",
    "A_modified[7,3] = 0\n",
    "A_modified_pow10 = matrix_power(A_modified, 10)\n",
    "print(f\"A_modified^10:\\n{A_modified_pow10}\\nNumber of walks from vertex 1 to vertex 1 without using the 4 to 8 edge: {A_modified_pow10[0,0]}\")"
   ]
  },
  {
   "cell_type": "markdown",
   "metadata": {},
   "source": [
    "$A^{10}_{11} = 7$ (without the 4 $\\rightarrow$ 8 edge)"
   ]
  },
  {
   "cell_type": "markdown",
   "metadata": {},
   "source": [
    "# f. Compute the number of walks of length 10 from vertex 1 to vertex 1 that use the 4 $\\rightarrow$ 8 edge at least once\n",
    "\n",
    "We can build on the same principle as in [e.](#e-compute-the-number-of-walks-of-length-10-from-vertex-1-to-vertex-1-that-never-use-the-4-8-edge) We know that $A$ to the power of 10 contains all walks of length 10. In case of vertex 1 to vertex 1 this is 29. What we don't know is the walks that use the 4 $\\rightarrow$ 8 edge at least once. But from [e.](#e-compute-the-number-of-walks-of-length-10-from-vertex-1-to-vertex-1-that-never-use-the-4-8-edge) we know the number of walks of length 10 from vertex 1 to vertex 1 that never use the 4 $\\rightarrow$ 8 edge. By this logic we can subtract the walks that never use the 4 $\\rightarrow$ 8 edge and we get all walks that use the 4 $\\rightarrow$ 8 edge at least once."
   ]
  },
  {
   "cell_type": "code",
   "execution_count": 7,
   "metadata": {},
   "outputs": [
    {
     "name": "stdout",
     "output_type": "stream",
     "text": [
      "A_with_4_to_8_pow10^10:\n",
      "[[22 28 15 29  7 24 18 35]\n",
      " [35 50 28 44  9 31 24 53]\n",
      " [18 35 22 28  5  9  7 24]\n",
      " [24 53 35 50 11 14  9 31]\n",
      " [ 7 24 18 35 10 11  5  9]\n",
      " [ 9 31 24 53 15 21 11 14]\n",
      " [ 5  9  7 24  6 15 10 11]\n",
      " [28 44 29 74 24 53 35 50]]\n",
      "Number of walks from vertex 1 to vertex 1 using the 4 to 8 edge at least once: 22\n"
     ]
    }
   ],
   "source": [
    "A_with_4_to_8_pow10 = A_pow10 - A_modified_pow10\n",
    "print(f\"A_with_4_to_8_pow10^10:\\n{A_with_4_to_8_pow10}\\nNumber of walks from vertex 1 to vertex 1 using the 4 to 8 edge at least once: {A_with_4_to_8_pow10[0,0]}\")"
   ]
  },
  {
   "cell_type": "markdown",
   "metadata": {},
   "source": [
    "$A^{10}_{11} = 22$ (with using the 4 $\\rightarrow$ 8 edge at least once)"
   ]
  }
 ],
 "metadata": {
  "kernelspec": {
   "display_name": ".venv",
   "language": "python",
   "name": "python3"
  },
  "language_info": {
   "codemirror_mode": {
    "name": "ipython",
    "version": 3
   },
   "file_extension": ".py",
   "mimetype": "text/x-python",
   "name": "python",
   "nbconvert_exporter": "python",
   "pygments_lexer": "ipython3",
   "version": "3.11.4"
  }
 },
 "nbformat": 4,
 "nbformat_minor": 2
}
