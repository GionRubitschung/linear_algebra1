{
 "cells": [
  {
   "cell_type": "code",
   "execution_count": 1,
   "metadata": {},
   "outputs": [],
   "source": [
    "import numpy as np\n",
    "from numpy.linalg import matrix_power"
   ]
  },
  {
   "cell_type": "markdown",
   "metadata": {},
   "source": [
    "## a.\n",
    "Give a similar description of $(A_n)^2$\n",
    "\n",
    "$n = 3$"
   ]
  },
  {
   "cell_type": "code",
   "execution_count": 2,
   "metadata": {},
   "outputs": [
    {
     "data": {
      "text/plain": [
       "array([[2, 1, 1],\n",
       "       [1, 2, 1],\n",
       "       [1, 1, 2]])"
      ]
     },
     "execution_count": 2,
     "metadata": {},
     "output_type": "execute_result"
    }
   ],
   "source": [
    "A = np.array([[0, 1, 1], [1, 0, 1], [1, 1, 0]])\n",
    "matrix_power(A, 2)"
   ]
  },
  {
   "cell_type": "markdown",
   "metadata": {},
   "source": [
    "$n = 5$"
   ]
  },
  {
   "cell_type": "code",
   "execution_count": 3,
   "metadata": {},
   "outputs": [
    {
     "data": {
      "text/plain": [
       "array([[4, 3, 3, 3, 3],\n",
       "       [3, 4, 3, 3, 3],\n",
       "       [3, 3, 4, 3, 3],\n",
       "       [3, 3, 3, 4, 3],\n",
       "       [3, 3, 3, 3, 4]])"
      ]
     },
     "execution_count": 3,
     "metadata": {},
     "output_type": "execute_result"
    }
   ],
   "source": [
    "A = np.array(\n",
    "    [\n",
    "        [0, 1, 1, 1, 1],\n",
    "        [1, 0, 1, 1, 1],\n",
    "        [1, 1, 0, 1, 1],\n",
    "        [1, 1, 1, 0, 1],\n",
    "        [1, 1, 1, 1, 0],\n",
    "    ]\n",
    ")\n",
    "matrix_power(A, 2)"
   ]
  },
  {
   "cell_type": "markdown",
   "metadata": {},
   "source": [
    "$n = 11$"
   ]
  },
  {
   "cell_type": "code",
   "execution_count": 4,
   "metadata": {},
   "outputs": [
    {
     "data": {
      "text/plain": [
       "array([[10,  9,  9,  9,  9,  9,  9,  9,  9,  9,  9],\n",
       "       [ 9, 10,  9,  9,  9,  9,  9,  9,  9,  9,  9],\n",
       "       [ 9,  9, 10,  9,  9,  9,  9,  9,  9,  9,  9],\n",
       "       [ 9,  9,  9, 10,  9,  9,  9,  9,  9,  9,  9],\n",
       "       [ 9,  9,  9,  9, 10,  9,  9,  9,  9,  9,  9],\n",
       "       [ 9,  9,  9,  9,  9, 10,  9,  9,  9,  9,  9],\n",
       "       [ 9,  9,  9,  9,  9,  9, 10,  9,  9,  9,  9],\n",
       "       [ 9,  9,  9,  9,  9,  9,  9, 10,  9,  9,  9],\n",
       "       [ 9,  9,  9,  9,  9,  9,  9,  9, 10,  9,  9],\n",
       "       [ 9,  9,  9,  9,  9,  9,  9,  9,  9, 10,  9],\n",
       "       [ 9,  9,  9,  9,  9,  9,  9,  9,  9,  9, 10]])"
      ]
     },
     "execution_count": 4,
     "metadata": {},
     "output_type": "execute_result"
    }
   ],
   "source": [
    "A = np.array(\n",
    "    [\n",
    "        [0, 1, 1, 1, 1, 1, 1, 1, 1, 1, 1],\n",
    "        [1, 0, 1, 1, 1, 1, 1, 1, 1, 1, 1],\n",
    "        [1, 1, 0, 1, 1, 1, 1, 1, 1, 1, 1],\n",
    "        [1, 1, 1, 0, 1, 1, 1, 1, 1, 1, 1],\n",
    "        [1, 1, 1, 1, 0, 1, 1, 1, 1, 1, 1],\n",
    "        [1, 1, 1, 1, 1, 0, 1, 1, 1, 1, 1],\n",
    "        [1, 1, 1, 1, 1, 1, 0, 1, 1, 1, 1],\n",
    "        [1, 1, 1, 1, 1, 1, 1, 0, 1, 1, 1],\n",
    "        [1, 1, 1, 1, 1, 1, 1, 1, 0, 1, 1],\n",
    "        [1, 1, 1, 1, 1, 1, 1, 1, 1, 0, 1],\n",
    "        [1, 1, 1, 1, 1, 1, 1, 1, 1, 1, 0],\n",
    "    ]\n",
    ")\n",
    "matrix_power(A, 2)"
   ]
  },
  {
   "cell_type": "markdown",
   "metadata": {},
   "source": [
    "## b.\n",
    "Give a similar description of $(A_n)^3$\n",
    "\n",
    "$n = 3$"
   ]
  },
  {
   "cell_type": "code",
   "execution_count": 5,
   "metadata": {},
   "outputs": [
    {
     "data": {
      "text/plain": [
       "array([[2, 3, 3],\n",
       "       [3, 2, 3],\n",
       "       [3, 3, 2]])"
      ]
     },
     "execution_count": 5,
     "metadata": {},
     "output_type": "execute_result"
    }
   ],
   "source": [
    "A = np.array([[0, 1, 1], [1, 0, 1], [1, 1, 0]])\n",
    "matrix_power(A, 3)"
   ]
  },
  {
   "cell_type": "markdown",
   "metadata": {},
   "source": [
    "$n = 5$\n",
    "\n",
    "$A_{11} = 0*4 + 1*3 + 1*3 + 1*3 + 1*3 = 0 + 4*3 = (n - 1)(n- 2) = 12$\n",
    "\n",
    "$A_{21} = 1*4 + 0*3 + 1*3 + 1*3 + 1*3 = 4 + 0 + 3*3 = (n - 1) + (n - 2)^2 = 13$"
   ]
  },
  {
   "cell_type": "code",
   "execution_count": 9,
   "metadata": {},
   "outputs": [
    {
     "name": "stdout",
     "output_type": "stream",
     "text": [
      "[[0 1 1 1 1]\n",
      " [1 0 1 1 1]\n",
      " [1 1 0 1 1]\n",
      " [1 1 1 0 1]\n",
      " [1 1 1 1 0]]\n",
      "[[4 3 3 3 3]\n",
      " [3 4 3 3 3]\n",
      " [3 3 4 3 3]\n",
      " [3 3 3 4 3]\n",
      " [3 3 3 3 4]]\n"
     ]
    },
    {
     "data": {
      "text/plain": [
       "array([[12, 13, 13, 13, 13],\n",
       "       [13, 12, 13, 13, 13],\n",
       "       [13, 13, 12, 13, 13],\n",
       "       [13, 13, 13, 12, 13],\n",
       "       [13, 13, 13, 13, 12]])"
      ]
     },
     "execution_count": 9,
     "metadata": {},
     "output_type": "execute_result"
    }
   ],
   "source": [
    "A = np.array(\n",
    "    [\n",
    "        [0, 1, 1, 1, 1],\n",
    "        [1, 0, 1, 1, 1],\n",
    "        [1, 1, 0, 1, 1],\n",
    "        [1, 1, 1, 0, 1],\n",
    "        [1, 1, 1, 1, 0],\n",
    "    ]\n",
    ")\n",
    "print(A)\n",
    "print(matrix_power(A, 2))\n",
    "matrix_power(A, 3)"
   ]
  },
  {
   "cell_type": "markdown",
   "metadata": {},
   "source": [
    "$n = 11$"
   ]
  },
  {
   "cell_type": "code",
   "execution_count": 8,
   "metadata": {},
   "outputs": [
    {
     "data": {
      "text/plain": [
       "array([[72, 73, 73, 73, 73, 73, 73, 73, 73, 73],\n",
       "       [73, 72, 73, 73, 73, 73, 73, 73, 73, 73],\n",
       "       [73, 73, 72, 73, 73, 73, 73, 73, 73, 73],\n",
       "       [73, 73, 73, 72, 73, 73, 73, 73, 73, 73],\n",
       "       [73, 73, 73, 73, 72, 73, 73, 73, 73, 73],\n",
       "       [73, 73, 73, 73, 73, 72, 73, 73, 73, 73],\n",
       "       [73, 73, 73, 73, 73, 73, 72, 73, 73, 73],\n",
       "       [73, 73, 73, 73, 73, 73, 73, 72, 73, 73],\n",
       "       [73, 73, 73, 73, 73, 73, 73, 73, 72, 73],\n",
       "       [73, 73, 73, 73, 73, 73, 73, 73, 73, 72]])"
      ]
     },
     "execution_count": 8,
     "metadata": {},
     "output_type": "execute_result"
    }
   ],
   "source": [
    "A = np.array(\n",
    "    [\n",
    "        [0, 1, 1, 1, 1, 1, 1, 1, 1, 1, 1],\n",
    "        [1, 0, 1, 1, 1, 1, 1, 1, 1, 1, 1],\n",
    "        [1, 1, 0, 1, 1, 1, 1, 1, 1, 1, 1],\n",
    "        [1, 1, 1, 0, 1, 1, 1, 1, 1, 1, 1],\n",
    "        [1, 1, 1, 1, 0, 1, 1, 1, 1, 1, 1],\n",
    "        [1, 1, 1, 1, 1, 0, 1, 1, 1, 1, 1],\n",
    "        [1, 1, 1, 1, 1, 1, 0, 1, 1, 1, 1],\n",
    "        [1, 1, 1, 1, 1, 1, 1, 0, 1, 1, 1],\n",
    "        [1, 1, 1, 1, 1, 1, 1, 1, 0, 1, 1],\n",
    "        [1, 1, 1, 1, 1, 1, 1, 1, 1, 0, 1],\n",
    "        [1, 1, 1, 1, 1, 1, 1, 1, 1, 1, 0],\n",
    "    ]\n",
    ")\n",
    "matrix_power(A, 3)"
   ]
  }
 ],
 "metadata": {
  "kernelspec": {
   "display_name": ".venv",
   "language": "python",
   "name": "python3"
  },
  "language_info": {
   "codemirror_mode": {
    "name": "ipython",
    "version": 3
   },
   "file_extension": ".py",
   "mimetype": "text/x-python",
   "name": "python",
   "nbconvert_exporter": "python",
   "pygments_lexer": "ipython3",
   "version": "3.11.4"
  }
 },
 "nbformat": 4,
 "nbformat_minor": 2
}
