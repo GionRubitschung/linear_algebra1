{
 "cells": [
  {
   "cell_type": "code",
   "execution_count": 1,
   "metadata": {},
   "outputs": [],
   "source": [
    "import numpy as np\n",
    "from numpy.linalg import inv, solve\n",
    "\n",
    "A = np.array(\n",
    "    [\n",
    "        [1, -1, -1, -1, 0, 1],\n",
    "        [0, -1, 0, 0, 1, 1],\n",
    "        [1, -1, 1, -1, 0, -1],\n",
    "        [-1, 0, -1, 0, -1, -1],\n",
    "        [1, 0, 1, 1, 1, 0],\n",
    "        [-1, 0, 1, 1, 1, 1],\n",
    "    ]\n",
    ")\n",
    "\n",
    "b = np.array([[1], [2], [3], [4], [5], [6]])"
   ]
  },
  {
   "cell_type": "markdown",
   "metadata": {},
   "source": [
    "## a.\n",
    "Compute the inverse matrix of $A$."
   ]
  },
  {
   "cell_type": "code",
   "execution_count": 2,
   "metadata": {},
   "outputs": [
    {
     "name": "stdout",
     "output_type": "stream",
     "text": [
      "[[ 0.5 -0.5  0.   0.   0.5  0. ]\n",
      " [-1.   0.5 -0.5 -1.  -0.5 -1. ]\n",
      " [ 0.5 -1.   0.5  0.   0.   1. ]\n",
      " [ 1.  -1.   0.   1.   1.   1. ]\n",
      " [-2.   2.5 -0.5 -1.  -0.5 -2. ]\n",
      " [ 1.  -1.   0.   0.   0.   1. ]]\n",
      "[[1. 0. 0. 0. 0. 0.]\n",
      " [0. 1. 0. 0. 0. 0.]\n",
      " [0. 0. 1. 0. 0. 0.]\n",
      " [0. 0. 0. 1. 0. 0.]\n",
      " [0. 0. 0. 0. 1. 0.]\n",
      " [0. 0. 0. 0. 0. 1.]]\n"
     ]
    }
   ],
   "source": [
    "print(inv(A))\n",
    "print(A @ inv(A))"
   ]
  },
  {
   "cell_type": "markdown",
   "metadata": {},
   "source": [
    "## b.\n",
    "Compute the solution $x$ to $Ax = b$ using `inv`"
   ]
  },
  {
   "cell_type": "code",
   "execution_count": 3,
   "metadata": {},
   "outputs": [
    {
     "name": "stdout",
     "output_type": "stream",
     "text": [
      "[[  2.]\n",
      " [-14.]\n",
      " [  6.]\n",
      " [ 14.]\n",
      " [-17.]\n",
      " [  5.]]\n",
      "[[ True]\n",
      " [ True]\n",
      " [ True]\n",
      " [ True]\n",
      " [ True]\n",
      " [ True]]\n"
     ]
    }
   ],
   "source": [
    "x = inv(A) @ b\n",
    "print(x)\n",
    "print(A @ x == b)"
   ]
  },
  {
   "cell_type": "markdown",
   "metadata": {},
   "source": [
    "# c.\n",
    "Compute the solution $x$ to $Ax = b$ in Python using `solve`"
   ]
  },
  {
   "cell_type": "code",
   "execution_count": 4,
   "metadata": {},
   "outputs": [
    {
     "name": "stdout",
     "output_type": "stream",
     "text": [
      "[[  2.]\n",
      " [-14.]\n",
      " [  6.]\n",
      " [ 14.]\n",
      " [-17.]\n",
      " [  5.]]\n",
      "[[ True]\n",
      " [ True]\n",
      " [ True]\n",
      " [ True]\n",
      " [ True]\n",
      " [ True]]\n"
     ]
    }
   ],
   "source": [
    "x = solve(A, b)\n",
    "print(x)\n",
    "print(A @ x == b)"
   ]
  },
  {
   "cell_type": "markdown",
   "metadata": {},
   "source": [
    "## d.\n",
    "See in previous prints"
   ]
  }
 ],
 "metadata": {
  "kernelspec": {
   "display_name": ".venv",
   "language": "python",
   "name": "python3"
  },
  "language_info": {
   "codemirror_mode": {
    "name": "ipython",
    "version": 3
   },
   "file_extension": ".py",
   "mimetype": "text/x-python",
   "name": "python",
   "nbconvert_exporter": "python",
   "pygments_lexer": "ipython3",
   "version": "3.11.4"
  }
 },
 "nbformat": 4,
 "nbformat_minor": 2
}
