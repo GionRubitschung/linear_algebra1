{
 "cells": [
  {
   "cell_type": "code",
   "execution_count": 37,
   "metadata": {},
   "outputs": [],
   "source": [
    "# Needed for lib import, since it is a local module\n",
    "import sys\n",
    "sys.path.insert(0, \"..\")\n",
    "\n",
    "import numpy as np\n",
    "from lib.matrix_operations import add_row, swap_row, multiply_row\n",
    "from numpy.linalg import det"
   ]
  },
  {
   "cell_type": "code",
   "execution_count": 38,
   "metadata": {},
   "outputs": [],
   "source": [
    "A = lambda z: np.array([[1, 1, z, 0], [1, 1, 1, z], [0, 1, 1, 1], [0, 0, 1, 1]])\n",
    "detA = lambda z: det(A(z))"
   ]
  },
  {
   "cell_type": "markdown",
   "metadata": {},
   "source": [
    "## b.\n",
    "$z = 0$ and $z = 5$"
   ]
  },
  {
   "cell_type": "code",
   "execution_count": 39,
   "metadata": {},
   "outputs": [
    {
     "name": "stdout",
     "output_type": "stream",
     "text": [
      "8.999999999999998\n",
      "-1.0\n"
     ]
    }
   ],
   "source": [
    "print(detA(5))\n",
    "print(detA(0))"
   ]
  },
  {
   "cell_type": "markdown",
   "metadata": {},
   "source": [
    "## d.\n",
    "\n",
    "$rref(A) | z = \\dfrac{1}{2}$"
   ]
  },
  {
   "cell_type": "code",
   "execution_count": 40,
   "metadata": {},
   "outputs": [
    {
     "data": {
      "text/plain": [
       "array([[1. , 1. , 0.5, 0. ],\n",
       "       [1. , 1. , 1. , 0.5],\n",
       "       [0. , 1. , 1. , 1. ],\n",
       "       [0. , 0. , 1. , 1. ]])"
      ]
     },
     "execution_count": 40,
     "metadata": {},
     "output_type": "execute_result"
    }
   ],
   "source": [
    "A = A(0.5)\n",
    "A"
   ]
  },
  {
   "cell_type": "markdown",
   "metadata": {},
   "source": [
    "### Clean C1\n",
    "\n",
    "1. $A[0,0] = 1 \\rightarrow pivot$\n",
    "2. $R_2 \\leftarrow R_2 - R_1$"
   ]
  },
  {
   "cell_type": "code",
   "execution_count": 41,
   "metadata": {},
   "outputs": [
    {
     "data": {
      "text/plain": [
       "array([[1. , 1. , 0.5, 0. ],\n",
       "       [0. , 0. , 0.5, 0.5],\n",
       "       [0. , 1. , 1. , 1. ],\n",
       "       [0. , 0. , 1. , 1. ]])"
      ]
     },
     "execution_count": 41,
     "metadata": {},
     "output_type": "execute_result"
    }
   ],
   "source": [
    "A = add_row(A, 1, 0, -1, \"float64\")\n",
    "A"
   ]
  },
  {
   "cell_type": "markdown",
   "metadata": {},
   "source": [
    "### Clean C2\n",
    "\n",
    "1. Swap $R_2 \\leftrightarrow R_3$"
   ]
  },
  {
   "cell_type": "code",
   "execution_count": 42,
   "metadata": {},
   "outputs": [
    {
     "data": {
      "text/plain": [
       "array([[1. , 1. , 0.5, 0. ],\n",
       "       [0. , 1. , 1. , 1. ],\n",
       "       [0. , 0. , 0.5, 0.5],\n",
       "       [0. , 0. , 1. , 1. ]])"
      ]
     },
     "execution_count": 42,
     "metadata": {},
     "output_type": "execute_result"
    }
   ],
   "source": [
    "A = swap_row(A, 1, 2, \"float64\")\n",
    "A"
   ]
  },
  {
   "cell_type": "markdown",
   "metadata": {},
   "source": [
    "2. $A[1,1] = 1 \\rightarrow pivot$\n",
    "3. $R_1 \\leftarrow R_1 - R_2$"
   ]
  },
  {
   "cell_type": "code",
   "execution_count": 43,
   "metadata": {},
   "outputs": [
    {
     "data": {
      "text/plain": [
       "array([[ 1. ,  0. , -0.5, -1. ],\n",
       "       [ 0. ,  1. ,  1. ,  1. ],\n",
       "       [ 0. ,  0. ,  0.5,  0.5],\n",
       "       [ 0. ,  0. ,  1. ,  1. ]])"
      ]
     },
     "execution_count": 43,
     "metadata": {},
     "output_type": "execute_result"
    }
   ],
   "source": [
    "A = add_row(A, 0, 1, -1, \"float64\")\n",
    "A"
   ]
  },
  {
   "cell_type": "markdown",
   "metadata": {},
   "source": [
    "### Clean C3\n",
    "\n",
    "1. Swap $R_3 \\leftrightarrow R_4$"
   ]
  },
  {
   "cell_type": "code",
   "execution_count": 44,
   "metadata": {},
   "outputs": [
    {
     "data": {
      "text/plain": [
       "array([[ 1. ,  0. , -0.5, -1. ],\n",
       "       [ 0. ,  1. ,  1. ,  1. ],\n",
       "       [ 0. ,  0. ,  1. ,  1. ],\n",
       "       [ 0. ,  0. ,  0.5,  0.5]])"
      ]
     },
     "execution_count": 44,
     "metadata": {},
     "output_type": "execute_result"
    }
   ],
   "source": [
    "A = swap_row(A, 2, 3, \"float64\")\n",
    "A"
   ]
  },
  {
   "cell_type": "markdown",
   "metadata": {},
   "source": [
    "2. $A[2,2] = 1 \\rightarrow pivot$\n",
    "3. $R_4 \\leftarrow R_4 - \\dfrac{1}{2}R_3$\n",
    "4. $R_2 \\leftarrow R_2 - R_3$\n",
    "5. $R_1 \\leftarrow R_1 + \\dfrac{1}{2}R_3$"
   ]
  },
  {
   "cell_type": "code",
   "execution_count": 45,
   "metadata": {},
   "outputs": [
    {
     "data": {
      "text/plain": [
       "array([[ 1. ,  0. ,  0. , -0.5],\n",
       "       [ 0. ,  1. ,  0. ,  0. ],\n",
       "       [ 0. ,  0. ,  1. ,  1. ],\n",
       "       [ 0. ,  0. ,  0. ,  0. ]])"
      ]
     },
     "execution_count": 45,
     "metadata": {},
     "output_type": "execute_result"
    }
   ],
   "source": [
    "A = add_row(A, 3, 2, -0.5, \"float64\")\n",
    "A = add_row(A, 1, 2, -1, \"float64\")\n",
    "A = add_row(A, 0, 2, 0.5, \"float64\")\n",
    "A"
   ]
  },
  {
   "cell_type": "markdown",
   "metadata": {},
   "source": [
    "$$\n",
    "\\underline{\\underline{\n",
    "null(A)=\n",
    "\\left\\{\n",
    "\\begin{pmatrix}\n",
    "    0.5 \\\\\n",
    "    0 \\\\\n",
    "    -1 \\\\\n",
    "    1\n",
    "\\end{pmatrix}\n",
    "\\right\\}\n",
    "}}\n",
    "$$"
   ]
  }
 ],
 "metadata": {
  "kernelspec": {
   "display_name": ".venv",
   "language": "python",
   "name": "python3"
  },
  "language_info": {
   "codemirror_mode": {
    "name": "ipython",
    "version": 3
   },
   "file_extension": ".py",
   "mimetype": "text/x-python",
   "name": "python",
   "nbconvert_exporter": "python",
   "pygments_lexer": "ipython3",
   "version": "3.11.4"
  }
 },
 "nbformat": 4,
 "nbformat_minor": 2
}
