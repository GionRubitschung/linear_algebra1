{
 "cells": [
  {
   "cell_type": "code",
   "execution_count": 131,
   "metadata": {},
   "outputs": [],
   "source": [
    "# Needed for lib import, since it is a local module\n",
    "import sys\n",
    "\n",
    "sys.path.insert(0, \"..\")\n",
    "\n",
    "from lib.matrix_operations import add_row, swap_row, multiply_row\n",
    "import numpy as np"
   ]
  },
  {
   "cell_type": "markdown",
   "metadata": {},
   "source": [
    "Set\n",
    "$\n",
    "F=\\begin{pmatrix}\n",
    "1 & 5 & 34 & 233 \\\\\\\n",
    "1 & 8 & 55 & 377 \\\\\\\n",
    "2 & 13 & 89 & 610 \\\\\\\n",
    "3 & 21 & 144 & 987\n",
    "\\end{pmatrix}\n",
    "$\n"
   ]
  },
  {
   "cell_type": "code",
   "execution_count": 132,
   "metadata": {},
   "outputs": [
    {
     "name": "stdout",
     "output_type": "stream",
     "text": [
      "[[  1   5  34 233]\n",
      " [  1   8  55 377]\n",
      " [  2  13  89 610]\n",
      " [  3  21 144 987]]\n"
     ]
    }
   ],
   "source": [
    "F = np.array([[1, 5, 34, 233], [1, 8, 55, 377], [2, 13, 89, 610], [3, 21, 144, 987]])\n",
    "print(F)"
   ]
  },
  {
   "cell_type": "markdown",
   "metadata": {},
   "source": [
    "# a.\n",
    "\n",
    "Compute the $rref(F)$, with all-zero rows dropped.\n"
   ]
  },
  {
   "cell_type": "markdown",
   "metadata": {},
   "source": [
    "## Clean C1\n",
    "\n",
    "1. $F[0, 0] \\rightarrow pivot$\n",
    "2. $R_1 \\leftarrow R_1 - R_0$\n",
    "3. $R_2 \\leftarrow R_2 - 2R_0$\n",
    "4. $R_3 \\leftarrow R_3 - 3R_0$\n"
   ]
  },
  {
   "cell_type": "code",
   "execution_count": 133,
   "metadata": {},
   "outputs": [
    {
     "name": "stdout",
     "output_type": "stream",
     "text": [
      "[[  1   5  34 233]\n",
      " [  0   3  21 144]\n",
      " [  0   3  21 144]\n",
      " [  0   6  42 288]]\n"
     ]
    }
   ],
   "source": [
    "F = add_row(F, 1, 0, -1)\n",
    "F = add_row(F, 2, 0, -2)\n",
    "F = add_row(F, 3, 0, -3)\n",
    "print(F)"
   ]
  },
  {
   "cell_type": "markdown",
   "metadata": {},
   "source": [
    "## Clean C2\n",
    "\n",
    "1. $R_3 \\leftarrow \\dfrac{1}{2}R_3$\n"
   ]
  },
  {
   "cell_type": "code",
   "execution_count": 134,
   "metadata": {},
   "outputs": [
    {
     "name": "stdout",
     "output_type": "stream",
     "text": [
      "[[  1   5  34 233]\n",
      " [  0   3  21 144]\n",
      " [  0   3  21 144]\n",
      " [  0   3  21 144]]\n"
     ]
    }
   ],
   "source": [
    "F = multiply_row(F, 3, 0.5)\n",
    "print(F)"
   ]
  },
  {
   "cell_type": "markdown",
   "metadata": {},
   "source": [
    "2. $R_1 ... R_3 \\leftarrow \\dfrac{1}{3}(R_1 ... R_3)$\n"
   ]
  },
  {
   "cell_type": "code",
   "execution_count": 135,
   "metadata": {},
   "outputs": [
    {
     "name": "stdout",
     "output_type": "stream",
     "text": [
      "[[  1   5  34 233]\n",
      " [  0   1   7  48]\n",
      " [  0   1   7  48]\n",
      " [  0   1   7  48]]\n"
     ]
    }
   ],
   "source": [
    "F = multiply_row(F, 1, 1 / 3)\n",
    "F = multiply_row(F, 2, 1 / 3)\n",
    "F = multiply_row(F, 3, 1 / 3)\n",
    "print(F)"
   ]
  },
  {
   "cell_type": "markdown",
   "metadata": {},
   "source": [
    "3. $F[1, 1] \\rightarrow pivot$\n",
    "4. $R_0 \\leftarrow R_0 - 5R_1$\n",
    "5. $R_2 \\leftarrow R_2 - R_1$\n",
    "6. $R_3 \\leftarrow R_3 - R_1$\n"
   ]
  },
  {
   "cell_type": "code",
   "execution_count": 136,
   "metadata": {},
   "outputs": [
    {
     "name": "stdout",
     "output_type": "stream",
     "text": [
      "[[ 1  0 -1 -7]\n",
      " [ 0  1  7 48]\n",
      " [ 0  0  0  0]\n",
      " [ 0  0  0  0]]\n"
     ]
    }
   ],
   "source": [
    "F = add_row(F, 0, 1, -5)\n",
    "F = add_row(F, 2, 1, -1)\n",
    "F = add_row(F, 3, 1, -1)\n",
    "print(F)"
   ]
  },
  {
   "cell_type": "markdown",
   "metadata": {},
   "source": [
    "$rref(F)$, with all-zero rows dropped -> $\n",
    "\\underline{\\underline{\n",
    "    rref(F)=\\begin{pmatrix}\n",
    "    1 & 0 & -1 & -7 \\\\\\\n",
    "    0 & 1 & 7 & 48\n",
    "    \\end{pmatrix}\n",
    "}}\n",
    "$\n"
   ]
  },
  {
   "cell_type": "markdown",
   "metadata": {},
   "source": [
    "# b.\n",
    "\n",
    "Compute the $rank(F)$\n",
    "\n",
    "$rref(F) \\rightarrow 2 pivots \\Rightarrow rank(F) = 2$\n"
   ]
  },
  {
   "cell_type": "markdown",
   "metadata": {},
   "source": [
    "# c.\n",
    "\n",
    "Compute a basis of the nullspace of $F$\n",
    "\n",
    "$\n",
    "\\underline{\\underline{\n",
    "null(F)=\n",
    "\\left\\{\n",
    "\\begin{pmatrix}\n",
    "    1 \\\\\n",
    "    -7 \\\\\n",
    "    1 \\\\\n",
    "    0\n",
    "\\end{pmatrix},\n",
    "\\begin{pmatrix}\n",
    "    7 \\\\\n",
    "    -48 \\\\\n",
    "    0 \\\\\n",
    "    1\n",
    "\\end{pmatrix}\n",
    "\\right\\}\n",
    "}}\n",
    "$\n"
   ]
  },
  {
   "cell_type": "markdown",
   "metadata": {},
   "source": [
    "# d.\n",
    "\n",
    "Compute a basis of the column space of $F$.\n",
    "\n",
    "$F \\rightarrow \\mathbb{R}^4$\n",
    "\n",
    "$null(F) \\rightarrow \\mathbb{R}^2$\n",
    "\n",
    "$dim(colsp(F)) = dim(F) - dim(null(F)) = 4 - 2 = 2 \\Rightarrow colsp(F) \\rightarrow \\mathbb{R}^2$\n",
    "\n",
    "## Transpose of $F$\n",
    "\n",
    "$\n",
    "F=\\begin{pmatrix}\n",
    "1 & 5 & 34 & 233 \\\\\\\n",
    "1 & 8 & 55 & 377 \\\\\\\n",
    "2 & 13 & 89 & 610 \\\\\\\n",
    "3 & 21 & 144 & 987\n",
    "\\end{pmatrix}\n",
    "\\Rightarrow\n",
    "F^T = E = \\begin{pmatrix}\n",
    "1 & 1 & 2 & 3 \\\\\\\n",
    "5 & 8 & 13 & 21 \\\\\\\n",
    "34 & 55 & 89 & 144 \\\\\\\n",
    "233 & 377 & 610 & 987\n",
    "\\end{pmatrix}\n",
    "$\n",
    "\n",
    "## rref of $F^T$\n"
   ]
  },
  {
   "cell_type": "code",
   "execution_count": 137,
   "metadata": {},
   "outputs": [
    {
     "name": "stdout",
     "output_type": "stream",
     "text": [
      "[[  1   1   2   3]\n",
      " [  5   8  13  21]\n",
      " [ 34  55  89 144]\n",
      " [233 377 610 987]]\n"
     ]
    }
   ],
   "source": [
    "E = np.array([[1, 1, 2, 3], [5, 8, 13, 21], [34, 55, 89, 144], [233, 377, 610, 987]])\n",
    "print(E)"
   ]
  },
  {
   "cell_type": "markdown",
   "metadata": {},
   "source": [
    "### Clean C1\n",
    "\n",
    "1. $E[0,0] \\rightarrow pivot$\n",
    "2. $R_1 \\leftarrow R_1 - 5R_0$\n",
    "3. $R_2 \\leftarrow R_2 - 34R_0$\n",
    "4. $R_3 \\leftarrow R_3 - 233R_0$"
   ]
  },
  {
   "cell_type": "code",
   "execution_count": 138,
   "metadata": {},
   "outputs": [
    {
     "name": "stdout",
     "output_type": "stream",
     "text": [
      "[[  1   1   2   3]\n",
      " [  0   3   3   6]\n",
      " [  0  21  21  42]\n",
      " [  0 144 144 288]]\n"
     ]
    }
   ],
   "source": [
    "E = add_row(E, 1, 0, -5)\n",
    "E = add_row(E, 2, 0, -34)\n",
    "E = add_row(E, 3, 0, -233)\n",
    "print(E)"
   ]
  },
  {
   "cell_type": "markdown",
   "metadata": {},
   "source": [
    "### Clean C2\n",
    "\n",
    "1. $R_1 ... R_3 \\leftarrow \\dfrac{1}{3}(R_1 ... R_3)$"
   ]
  },
  {
   "cell_type": "code",
   "execution_count": 139,
   "metadata": {},
   "outputs": [
    {
     "name": "stdout",
     "output_type": "stream",
     "text": [
      "[[ 1  1  2  3]\n",
      " [ 0  1  1  2]\n",
      " [ 0  7  7 14]\n",
      " [ 0 48 48 96]]\n"
     ]
    }
   ],
   "source": [
    "E = multiply_row(E, 1, 1/3)\n",
    "E = multiply_row(E, 2, 1/3)\n",
    "E = multiply_row(E, 3, 1/3)\n",
    "print(E)"
   ]
  },
  {
   "cell_type": "markdown",
   "metadata": {},
   "source": [
    "2. $R_0 \\leftarrow R_0 -  R_1$\n",
    "3. $R_2 \\leftarrow R_2 - 7R_1$\n",
    "4. $R_3 \\leftarrow R_3 - 48R_1$"
   ]
  },
  {
   "cell_type": "code",
   "execution_count": 140,
   "metadata": {},
   "outputs": [
    {
     "name": "stdout",
     "output_type": "stream",
     "text": [
      "[[1 0 1 1]\n",
      " [0 1 1 2]\n",
      " [0 0 0 0]\n",
      " [0 0 0 0]]\n"
     ]
    }
   ],
   "source": [
    "E = add_row(E, 0, 1, -1)\n",
    "E = add_row(E, 2, 1, -7)\n",
    "E = add_row(E, 3, 1, -48)\n",
    "print(E)"
   ]
  },
  {
   "cell_type": "markdown",
   "metadata": {},
   "source": [
    "$\n",
    "rref(E)=\\begin{pmatrix}\n",
    "1 & 0 & 1 & 1 \\\\\\\n",
    "0 & 1 & 1 & 2\n",
    "\\end{pmatrix}\n",
    "$\n",
    "\n",
    "## Basis of columspace $F$\n",
    "\n",
    "$\n",
    "\\underline{\\underline{\n",
    "colsp(F)=\n",
    "\\left\\{\n",
    "\\begin{pmatrix}\n",
    "    1 \\\\\n",
    "    0 \\\\\n",
    "    1 \\\\\n",
    "    1\n",
    "\\end{pmatrix},\n",
    "\\begin{pmatrix}\n",
    "    0 \\\\\n",
    "    1 \\\\\n",
    "    1 \\\\\n",
    "    2\n",
    "\\end{pmatrix}\n",
    "\\right\\}\n",
    "}}\n",
    "$"
   ]
  },
  {
   "cell_type": "markdown",
   "metadata": {},
   "source": [
    "### "
   ]
  }
 ],
 "metadata": {
  "kernelspec": {
   "display_name": ".venv",
   "language": "python",
   "name": "python3"
  },
  "language_info": {
   "codemirror_mode": {
    "name": "ipython",
    "version": 3
   },
   "file_extension": ".py",
   "mimetype": "text/x-python",
   "name": "python",
   "nbconvert_exporter": "python",
   "pygments_lexer": "ipython3",
   "version": "3.11.4"
  }
 },
 "nbformat": 4,
 "nbformat_minor": 2
}
