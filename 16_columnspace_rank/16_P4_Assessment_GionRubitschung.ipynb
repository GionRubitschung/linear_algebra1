{
 "cells": [
  {
   "cell_type": "code",
   "execution_count": 1,
   "metadata": {},
   "outputs": [],
   "source": [
    "# Needed for lib import, since it is a local module\n",
    "import sys\n",
    "\n",
    "sys.path.insert(0, \"..\")\n",
    "\n",
    "from lib.matrix_operations import add_row, multiply_row\n",
    "import numpy as np"
   ]
  },
  {
   "cell_type": "markdown",
   "metadata": {},
   "source": [
    "Set\n",
    "$$\n",
    "F=\\begin{pmatrix}\n",
    "1 & 2 & 3 & 4 & 5 \\\\\n",
    "2 & 3 & 4 & 5 & 6 \\\\\n",
    "3 & 4 & 5 & 6 & 7 \\\\\n",
    "4 & 5 & 6 & 7 & 8 \\\\\n",
    "5 & 6 & 7 & 8 & 9\n",
    "\\end{pmatrix}\n",
    "$$\n"
   ]
  },
  {
   "cell_type": "code",
   "execution_count": 2,
   "metadata": {},
   "outputs": [
    {
     "name": "stdout",
     "output_type": "stream",
     "text": [
      "[[1 2 3 4 5]\n",
      " [2 3 4 5 6]\n",
      " [3 4 5 6 7]\n",
      " [4 5 6 7 8]\n",
      " [5 6 7 8 9]]\n"
     ]
    }
   ],
   "source": [
    "F = np.array(\n",
    "    [\n",
    "        [1, 2, 3, 4, 5],\n",
    "        [2, 3, 4, 5, 6],\n",
    "        [3, 4, 5, 6, 7],\n",
    "        [4, 5, 6, 7, 8],\n",
    "        [5, 6, 7, 8, 9],\n",
    "    ]\n",
    ")\n",
    "print(F)"
   ]
  },
  {
   "cell_type": "markdown",
   "metadata": {},
   "source": [
    "# a.\n",
    "\n",
    "Compute the $rref(F)$, with all-zero rows dropped.\n"
   ]
  },
  {
   "cell_type": "markdown",
   "metadata": {},
   "source": [
    "## Clean C1\n",
    "\n",
    "1. $F[0, 0] = 1 \\rightarrow pivot$\n",
    "2. $R_1 \\leftarrow R_1 - 2R_0$\n",
    "3. $R_2 \\leftarrow R_2 - 3R_0$\n",
    "4. $R_3 \\leftarrow R_3 - 4R_0$\n",
    "5. $R_4 \\leftarrow R_4 - 5R_0$\n"
   ]
  },
  {
   "cell_type": "code",
   "execution_count": 3,
   "metadata": {},
   "outputs": [
    {
     "name": "stdout",
     "output_type": "stream",
     "text": [
      "[[  1   2   3   4   5]\n",
      " [  0  -1  -2  -3  -4]\n",
      " [  0  -2  -4  -6  -8]\n",
      " [  0  -3  -6  -9 -12]\n",
      " [  0  -4  -8 -12 -16]]\n"
     ]
    }
   ],
   "source": [
    "F = add_row(F, 1, 0, -2)\n",
    "F = add_row(F, 2, 0, -3)\n",
    "F = add_row(F, 3, 0, -4)\n",
    "F = add_row(F, 4, 0, -5)\n",
    "print(F)"
   ]
  },
  {
   "cell_type": "markdown",
   "metadata": {},
   "source": [
    "## Clean C2\n",
    "\n",
    "1. $R_1 \\dots R_4 \\leftarrow (-1)(R_1 \\dots R_4)$\n"
   ]
  },
  {
   "cell_type": "code",
   "execution_count": 4,
   "metadata": {},
   "outputs": [
    {
     "name": "stdout",
     "output_type": "stream",
     "text": [
      "[[ 1  2  3  4  5]\n",
      " [ 0  1  2  3  4]\n",
      " [ 0  2  4  6  8]\n",
      " [ 0  3  6  9 12]\n",
      " [ 0  4  8 12 16]]\n"
     ]
    }
   ],
   "source": [
    "F = multiply_row(F, 1, -1)\n",
    "F = multiply_row(F, 2, -1)\n",
    "F = multiply_row(F, 3, -1)\n",
    "F = multiply_row(F, 4, -1)\n",
    "print(F)"
   ]
  },
  {
   "cell_type": "markdown",
   "metadata": {},
   "source": [
    "2. $F[1, 1] = 1 \\rightarrow pivot$\n",
    "3. $R_0 \\leftarrow R_0 - 2R_1$\n",
    "4. $R_2 \\leftarrow R_2 - 2R_1$\n",
    "5. $R_3 \\leftarrow R_3 - 3R_1$\n",
    "6. $R_4 \\leftarrow R_4 - 4R_1$\n"
   ]
  },
  {
   "cell_type": "code",
   "execution_count": 5,
   "metadata": {},
   "outputs": [
    {
     "name": "stdout",
     "output_type": "stream",
     "text": [
      "[[ 1  0 -1 -2 -3]\n",
      " [ 0  1  2  3  4]\n",
      " [ 0  0  0  0  0]\n",
      " [ 0  0  0  0  0]\n",
      " [ 0  0  0  0  0]]\n"
     ]
    }
   ],
   "source": [
    "F = add_row(F, 0, 1, -2)\n",
    "F = add_row(F, 2, 1, -2)\n",
    "F = add_row(F, 3, 1, -3)\n",
    "F = add_row(F, 4, 1, -4)\n",
    "print(F)"
   ]
  },
  {
   "cell_type": "markdown",
   "metadata": {},
   "source": [
    "$rref(F)$, with all-zero rows dropped ->\n",
    "$$\n",
    "\\underline{\\underline{\n",
    "    rref(F)=\\begin{pmatrix}\n",
    "    1 & 0 & -1 & -2 & -3 \\\\\\\n",
    "    0 & 1 & 2 & 3 & 4\n",
    "    \\end{pmatrix}\n",
    "}}\n",
    "$$\n"
   ]
  },
  {
   "cell_type": "markdown",
   "metadata": {},
   "source": [
    "# b.\n",
    "\n",
    "Compute the $rank(F)$\n",
    "\n",
    "$$rref(F) \\rightarrow 2  pivots \\Rightarrow \\underline{\\underline{rank(F) = 2}}$$\n"
   ]
  },
  {
   "cell_type": "markdown",
   "metadata": {},
   "source": [
    "# c.\n",
    "\n",
    "Compute a basis of the nullspace of $F$\n",
    "\n",
    "$$\n",
    "\\underline{\\underline{\n",
    "null(F)=\n",
    "\\left\\{\n",
    "\\begin{pmatrix}\n",
    "    1 \\\\\n",
    "    2 \\\\\n",
    "    1 \\\\\n",
    "    0 \\\\\n",
    "    0\n",
    "\\end{pmatrix},\n",
    "\\begin{pmatrix}\n",
    "    2 \\\\\n",
    "    -3 \\\\\n",
    "    0 \\\\\n",
    "    1 \\\\\n",
    "    0\n",
    "\\end{pmatrix},\n",
    "\\begin{pmatrix}\n",
    "    3 \\\\\n",
    "    -4 \\\\\n",
    "    0 \\\\\n",
    "    0 \\\\\n",
    "    1\n",
    "\\end{pmatrix}\n",
    "\\right\\}\n",
    "}}\n",
    "$$\n"
   ]
  },
  {
   "cell_type": "markdown",
   "metadata": {},
   "source": [
    "# d.\n",
    "\n",
    "Compute a basis of the column space of $F$.\n",
    "\n",
    "$$F \\rightarrow \\mathbb{R}^5$$\n",
    "\n",
    "$$null(F) \\rightarrow \\mathbb{R}^3$$\n",
    "\n",
    "$$dim(colsp(F)) = dim(F) - dim(null(F)) = 5 - 3 = 2 \\Rightarrow colsp(F) \\rightarrow \\mathbb{R}^2$$\n",
    "\n",
    "## Transpose of $F$\n",
    "\n",
    "$$\n",
    "F=\\begin{pmatrix}\n",
    "1 & 2 & 3 & 4 & 5 \\\\\n",
    "2 & 3 & 4 & 5 & 6 \\\\\n",
    "3 & 4 & 5 & 6 & 7 \\\\\n",
    "4 & 5 & 6 & 7 & 8 \\\\\n",
    "5 & 6 & 7 & 8 & 9\n",
    "\\end{pmatrix}\n",
    "\\Rightarrow\n",
    "F^T = \\begin{pmatrix}\n",
    "1 & 2 & 3 & 4 & 5 \\\\\n",
    "2 & 3 & 4 & 5 & 6 \\\\\n",
    "3 & 4 & 5 & 6 & 7 \\\\\n",
    "4 & 5 & 6 & 7 & 8 \\\\\n",
    "5 & 6 & 7 & 8 & 9\n",
    "\\end{pmatrix} = F\n",
    "$$\n",
    "\n",
    "## rref of $F^T$\n",
    "\n",
    "Since\n",
    "$$F = F^T \\Rightarrow\n",
    "rref(F) = rref(F^T) = \\begin{pmatrix}\n",
    "1 & 0 & -1 & -2 & -3 \\\\\\\n",
    "0 & 1 & 2 & 3 & 4\n",
    "\\end{pmatrix}\n",
    "$$\n",
    "\n",
    "## Basis of columspace $F$\n",
    "\n",
    "$$\n",
    "\\underline{\\underline{\n",
    "colsp(F)=\n",
    "\\left\\{\n",
    "\\begin{pmatrix}\n",
    "    1 \\\\\n",
    "    0 \\\\\n",
    "    -1 \\\\\n",
    "    -2 \\\\\n",
    "    -3\n",
    "\\end{pmatrix},\n",
    "\\begin{pmatrix}\n",
    "    0 \\\\\n",
    "    1 \\\\\n",
    "    2 \\\\\n",
    "    3 \\\\\n",
    "    4\n",
    "\\end{pmatrix}\n",
    "\\right\\}\n",
    "}}\n",
    "$$\n"
   ]
  },
  {
   "cell_type": "markdown",
   "metadata": {},
   "source": [
    "###\n"
   ]
  }
 ],
 "metadata": {
  "kernelspec": {
   "display_name": ".venv",
   "language": "python",
   "name": "python3"
  },
  "language_info": {
   "codemirror_mode": {
    "name": "ipython",
    "version": 3
   },
   "file_extension": ".py",
   "mimetype": "text/x-python",
   "name": "python",
   "nbconvert_exporter": "python",
   "pygments_lexer": "ipython3",
   "version": "3.11.4"
  }
 },
 "nbformat": 4,
 "nbformat_minor": 2
}
